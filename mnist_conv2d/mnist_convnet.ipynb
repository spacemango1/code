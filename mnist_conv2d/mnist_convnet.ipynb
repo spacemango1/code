{
 "cells": [
  {
   "cell_type": "markdown",
   "metadata": {},
   "source": [
    "*Adapted from: https://keras.io/examples/vision/mnist_convnet/*"
   ]
  },
  {
   "cell_type": "markdown",
   "metadata": {
    "id": "iIMsvaXx9c_h"
   },
   "source": [
    "# Setup"
   ]
  },
  {
   "cell_type": "code",
   "execution_count": null,
   "metadata": {
    "id": "TiiNKWP79c_h"
   },
   "outputs": [],
   "source": [
    "import numpy as np\n",
    "import matplotlib.pyplot as plt\n",
    "import tensorflow.keras as keras\n",
    "from keras import layers\n",
    "print(keras.__version__)\n",
    "keras.backend.backend()"
   ]
  },
  {
   "cell_type": "markdown",
   "metadata": {
    "id": "MKVD7w4u9c_i"
   },
   "source": [
    "# Load the data"
   ]
  },
  {
   "cell_type": "code",
   "execution_count": null,
   "metadata": {
    "colab": {
     "base_uri": "https://localhost:8080/"
    },
    "id": "jR74eFKy9c_j",
    "outputId": "b4dc7e2d-016f-4888-d013-538a7286c29d"
   },
   "outputs": [],
   "source": [
    "# the data, split between train and test sets\n",
    "(x_train, y_train), (x_test, y_test) = keras.datasets.mnist.load_data()"
   ]
  },
  {
   "cell_type": "markdown",
   "metadata": {},
   "source": [
    "# Display the data"
   ]
  },
  {
   "cell_type": "code",
   "execution_count": null,
   "metadata": {},
   "outputs": [],
   "source": [
    "plt.clf()\n",
    "for i in range(9):\n",
    "    ax = plt.subplot(3, 3, i + 1)\n",
    "    plt.imshow(x_train[i], cmap='gray')\n",
    "    plt.title(y_train[i])\n",
    "    plt.axis(\"off\")\n",
    "\n",
    "plt.show()"
   ]
  },
  {
   "cell_type": "markdown",
   "metadata": {},
   "source": [
    "# Prepare the data"
   ]
  },
  {
   "cell_type": "code",
   "execution_count": null,
   "metadata": {},
   "outputs": [],
   "source": [
    "# Scale images to the [0, 1] range\n",
    "x_train = x_train.astype(\"float32\") / 255\n",
    "x_test = x_test.astype(\"float32\") / 255\n",
    "# Make sure images have shape (28, 28, 1)\n",
    "x_train = np.expand_dims(x_train, -1)\n",
    "x_test = np.expand_dims(x_test, -1)\n",
    "print(\"x_train shape:\", x_train.shape)\n",
    "print(x_train.shape[0], \"train samples\")\n",
    "print(x_test.shape[0], \"test samples\")\n",
    "\n",
    "# Model / data parameters\n",
    "num_classes = 10\n",
    "input_shape = x_train.shape[1:]\n",
    "\n",
    "# convert class vectors to binary class matrices\n",
    "y_train = keras.utils.to_categorical(y_train, num_classes)\n",
    "y_test = keras.utils.to_categorical(y_test, num_classes)"
   ]
  },
  {
   "cell_type": "markdown",
   "metadata": {
    "id": "ZR9v630T9c_j"
   },
   "source": [
    "# Build the model\n",
    "\n",
    "In the case of a convolutional layer, the expected input dimensions should match the kernel size dimension, in this case 2D, so we won't reshape our 28x28 input data here. In the model we built here, we use a total of 2 convolutional layers that are each followed by a pooling layer that downsamples the output from the convolutional layer.\n",
    "\n",
    "After the convolution, the output is flatten to 1D and a dropout layer is applied before the output layer. The dropout helps prevent overfitting and our network's reliance on a small set of neurons, making the resultant network more generalizable."
   ]
  },
  {
   "cell_type": "code",
   "execution_count": null,
   "metadata": {
    "colab": {
     "base_uri": "https://localhost:8080/"
    },
    "id": "8ScM4WZ99c_j",
    "outputId": "0cca0082-ceb4-4c3e-e566-f8c9b6a900f8",
    "scrolled": false
   },
   "outputs": [],
   "source": [
    "model = keras.Sequential(\n",
    "    [\n",
    "        layers.InputLayer(input_shape=input_shape),\n",
    "        layers.Conv2D(32, kernel_size=(3, 3), activation=\"relu\"),\n",
    "        layers.MaxPooling2D(pool_size=(2, 2)),\n",
    "        layers.Conv2D(64, kernel_size=(3, 3), activation=\"relu\"),\n",
    "        layers.MaxPooling2D(pool_size=(2, 2)),\n",
    "        layers.Flatten(),\n",
    "        layers.Dropout(0.5),\n",
    "        layers.Dense(num_classes, activation=\"softmax\"),\n",
    "    ]\n",
    ")\n",
    "\n",
    "model.summary()"
   ]
  },
  {
   "cell_type": "markdown",
   "metadata": {
    "id": "ObRUnWJb9c_k"
   },
   "source": [
    "# Train the model\n",
    "\n",
    "Same as the basic nn model, we train for 15 epochs with batch size of 128 using the same loss and optimization parameters. This will probably take longer than the basic nn model as there are more operations to perform."
   ]
  },
  {
   "cell_type": "code",
   "execution_count": null,
   "metadata": {
    "colab": {
     "base_uri": "https://localhost:8080/"
    },
    "id": "sedKFpWZ9c_k",
    "outputId": "60ad3c61-8924-4924-d321-68870b86655c"
   },
   "outputs": [],
   "source": [
    "batch_size = 128\n",
    "epochs = 15\n",
    "\n",
    "model.compile(loss=\"categorical_crossentropy\", optimizer=\"adam\", metrics=[\"accuracy\"])\n",
    "\n",
    "model.fit(x_train, y_train, batch_size=batch_size, epochs=epochs, validation_split=0.1)"
   ]
  },
  {
   "cell_type": "markdown",
   "metadata": {
    "id": "-7tslu089c_l"
   },
   "source": [
    "# Evaluate the trained model\n",
    "\n",
    "We expect a 99% test accuracy here."
   ]
  },
  {
   "cell_type": "code",
   "execution_count": null,
   "metadata": {
    "colab": {
     "base_uri": "https://localhost:8080/"
    },
    "id": "Fej44Szd9c_l",
    "outputId": "25536423-ca3c-46ca-8b64-2d1826fcdd02"
   },
   "outputs": [],
   "source": [
    "score = model.evaluate(x_test, y_test, verbose=0)\n",
    "print(\"Test loss:\", score[0])\n",
    "print(\"Test accuracy:\", score[1])"
   ]
  },
  {
   "cell_type": "code",
   "execution_count": null,
   "metadata": {},
   "outputs": [],
   "source": [
    "layer = model.get_layer(\"conv2d_1\").get_weights()[0]\n",
    "W = np.squeeze(layer)\n",
    "\n",
    "plt.clf()\n",
    "fig, axs = plt.subplots(5, 5, figsize=(8,8))\n",
    "fig.subplots_adjust(hspace = .5, wspace=.001)\n",
    "axs = axs.ravel()\n",
    "for i in range(25):\n",
    "    axs[i].imshow(W[:,:,i], cmap=\"gray\")\n",
    "    axs[i].set_title(str(i))\n",
    "    \n",
    "plt.show()"
   ]
  },
  {
   "cell_type": "code",
   "execution_count": null,
   "metadata": {},
   "outputs": [],
   "source": [
    "def visualize_conv_layer(model, layer_name):\n",
    "    layer_output=model.get_layer(layer_name).output\n",
    "\n",
    "    intermediate_model=keras.models.Model(inputs=model.input, outputs=layer_output)\n",
    "\n",
    "    intermediate_prediction=intermediate_model.predict(x_train[5].reshape(1,28,28,1))\n",
    "    \n",
    "    row_size=4\n",
    "    col_size=8\n",
    "\n",
    "    img_index=0\n",
    "\n",
    "    print(layer_name, np.shape(intermediate_prediction))\n",
    " \n",
    "    fig,ax=plt.subplots(row_size, col_size, figsize=(10,8)) \n",
    "\n",
    "    for row in range(0, row_size):\n",
    "        for col in range(0, col_size):\n",
    "            ax[row][col].imshow(intermediate_prediction[0, :, :, img_index], cmap='gray')\n",
    "\n",
    "            img_index = img_index + 1\n",
    "        \n",
    "    plt.show()\n",
    "    \n",
    "def visualize_flat_layer(model, layer_name):\n",
    "    layer_output=model.get_layer(layer_name).output\n",
    "    intermediate_model=keras.models.Model(inputs=model.input, outputs=layer_output)\n",
    "    intermediate_prediction=intermediate_model.predict(x_train[1].reshape(1,28,28,1))\n",
    "    \n",
    "    print(layer_name, np.shape(intermediate_prediction))\n",
    "    \n",
    "    plt.imshow(intermediate_prediction.reshape((40, 40)), cmap=\"gray\")\n",
    "        \n",
    "    plt.show()\n",
    "\n",
    "visualize_conv_layer(model, \"conv2d_1\")\n",
    "# visualize_conv_layer(model, \"max_pooling2d_1\")\n",
    "# visualize_conv_layer(model, \"conv2d_2\")\n",
    "# visualize_conv_layer(model, \"max_pooling2d_2\")\n",
    "# visualize_flat_layer(model, \"flatten_1\")"
   ]
  }
 ],
 "metadata": {
  "accelerator": "GPU",
  "colab": {
   "collapsed_sections": [],
   "name": "mnist_convnet",
   "provenance": [],
   "toc_visible": true
  },
  "kernelspec": {
   "display_name": "Python 3 (ipykernel)",
   "language": "python",
   "name": "python3"
  },
  "language_info": {
   "codemirror_mode": {
    "name": "ipython",
    "version": 3
   },
   "file_extension": ".py",
   "mimetype": "text/x-python",
   "name": "python",
   "nbconvert_exporter": "python",
   "pygments_lexer": "ipython3",
   "version": "3.9.7"
  }
 },
 "nbformat": 4,
 "nbformat_minor": 1
}
